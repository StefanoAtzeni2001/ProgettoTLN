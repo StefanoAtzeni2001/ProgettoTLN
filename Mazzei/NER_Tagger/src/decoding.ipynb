{
 "cells": [
  {
   "cell_type": "markdown",
   "metadata": {},
   "source": [
    "Funzioni di Gestione files"
   ]
  },
  {
   "cell_type": "code",
   "execution_count": 1,
   "metadata": {},
   "outputs": [],
   "source": [
    "import pickle\n",
    "import pandas as pd # type: ignore\n",
    "import numpy as np # type: ignore\n",
    "from conllu import parse, TokenList # type: ignore\n",
    "\n",
    "#deserialize data from a file\n",
    "def load_data(file_name,language):\n",
    "    path=\"../data/\"+language+\"/\"+file_name\n",
    "    try: \n",
    "        file = open(path, 'rb') \n",
    "        data = pickle.load(file) \n",
    "        return data\n",
    "    except: \n",
    "        print(\"Error in reading data\")\n",
    "\n",
    "# function to read data from file\n",
    "def read_dataset(file_name,language):\n",
    "    path=\"../data/\"+language+\"/dataset/\"+file_name+\".conllu\"\n",
    "    data = pd.read_csv (path, sep = '\\t',quoting=3, names=[\"POSITION\",\"WORD\",\"TAG\"])\n",
    "    return data\n",
    "\n",
    "# Funzione per salvare il DataFrame in un file CoNLL-U\n",
    "def save_to_conllu(dataframe,file_name,language):\n",
    "    # Creazione della lista di token da DataFrame\n",
    "    path=\"../data/\"+language+\"/tagging/\"+file_name\n",
    "    tokens = []\n",
    "    for _, row in dataframe.iterrows():\n",
    "        token = {\n",
    "            \"id\": row['POSITION'],\n",
    "            \"form\": row['WORD'],\n",
    "            \"misc\":  row['TAG']\n",
    "        }\n",
    "        tokens.append(token)\n",
    "    \n",
    "    # Creazione dell'oggetto TokenList\n",
    "    token_list = TokenList(tokens)\n",
    "    \n",
    "    # Scrittura del TokenList nel file CoNLL-U\n",
    "    with open(path, \"w\", encoding=\"utf-8\") as f:\n",
    "        f.write(token_list.serialize())\n",
    "    print(\"DataFrame salvato in formato CoNLL-U:\", path)"
   ]
  },
  {
   "cell_type": "markdown",
   "metadata": {},
   "source": [
    "Funzioni di manipolazione e creazione del golden system"
   ]
  },
  {
   "cell_type": "code",
   "execution_count": 2,
   "metadata": {},
   "outputs": [],
   "source": [
    "def extract_sentences_from_dataframe(df):\n",
    "    sentences = []\n",
    "    current_sentence = []\n",
    "\n",
    "    for index, row in df.iterrows():\n",
    "        position = row['POSITION']\n",
    "        if position == 0 and current_sentence:  # Se è il primo elemento di una nuova frase e c'è una frase in corso\n",
    "            sentences.append(' '.join([str(word) for word in current_sentence]))  # Aggiungi la frase corrente alla lista delle frasi\n",
    "            current_sentence = []  # Inizia una nuova frase\n",
    "        \n",
    "        current_sentence.append(row['WORD'])  # Aggiungi la parola corrente alla frase in corso\n",
    "\n",
    "    # Aggiungi l'ultima frase alla lista delle frasi se presente\n",
    "    if current_sentence:\n",
    "        sentences.append(' '.join([word for word in current_sentence]))\n",
    "\n",
    "    return sentences\n"
   ]
  },
  {
   "cell_type": "markdown",
   "metadata": {},
   "source": [
    "Viterbi"
   ]
  },
  {
   "cell_type": "code",
   "execution_count": 3,
   "metadata": {},
   "outputs": [],
   "source": [
    "#implementazione dell'algoritmo di viterbi con la prevenzione dell'underflow tramite logaritmo e probabilità iniziale omogenea\n",
    "\n",
    "def viterbi(emission_df, transition_df):\n",
    "    # Numero di stati\n",
    "    num_states = len(transition_df)\n",
    "\n",
    "    # Inizializzazione della matrice di probabilità\n",
    "    dp = pd.DataFrame(index=range(num_states), columns=range(len(emission_df.columns)))\n",
    "    pi = 1 / num_states #Probabilità iniziale equiprobabile\n",
    "    dp.iloc[:, 0] = np.log(pi) + np.log(emission_df.iloc[:, 0] + 1e-10)\n",
    "\n",
    "    # Inizializzazione del percorso ottimale\n",
    "    path = {state: [state] for state in range(num_states)}\n",
    "\n",
    "    # Ciclo attraverso le osservazioni\n",
    "    for t in range(1, len(emission_df.columns)):\n",
    "        new_path = {}\n",
    "\n",
    "        # Ciclo attraverso i possibili stati\n",
    "        for state in range(num_states):\n",
    "            # Calcolo della probabilità massima\n",
    "            max_prob = float('-inf')\n",
    "            max_state = None\n",
    "            for prev_state in range(num_states):\n",
    "                prob = dp.iloc[prev_state, t-1] + np.log(transition_df.iloc[state, prev_state] + 1e-10) + np.log(emission_df.iloc[state, t] + 1e-10)\n",
    "                if prob > max_prob:\n",
    "                    max_prob = prob\n",
    "                    max_state = prev_state\n",
    "            \n",
    "            dp.iloc[state, t] = max_prob\n",
    "\n",
    "            # Aggiornamento del percorso ottimale\n",
    "            new_path[state] = path[max_state] + [state]\n",
    "\n",
    "        path = new_path\n",
    "\n",
    "    # Ritorno del percorso ottimale\n",
    "    max_prob = dp.iloc[:, len(emission_df.columns)-1].max()\n",
    "    max_path = path[dp.iloc[:, len(emission_df.columns)-1].idxmax()]\n",
    "\n",
    "    # Stampa a schermo il percorso di Viterbi\n",
    "    # print('Il percorso di Viterbi è:', ' -> '.join(emission_df.index[max_path]))\n",
    "\n",
    "    return pd.DataFrame({'POSITION': range(len(max_path)), 'WORD': emission_df.columns, 'TAG': [emission_df.index[state] for state in max_path]})"
   ]
  },
  {
   "cell_type": "markdown",
   "metadata": {},
   "source": [
    "Creazione del sub-dataset di probabilità di emissione per le parole di una frase.\n",
    "\n",
    "Applicazione di diverse tecniche di smoothing per gestire le parole sconosciute:\n",
    "\n",
    "1 - Sempre O: P(unk|O) = 1\n",
    "\n",
    "2 - Sempre O o MISC: P(unk|O)=P(unk|B-MISC)=0.5\n",
    "\n",
    "3 - Uniforme: P(unk|tag) = 1/#(NER_TAGs)\n",
    "\n",
    "4 - Statistica TAG sul val set: parole che compaiono 1 sola volta  -> unknown_prob calcolata nel file learning \n"
   ]
  },
  {
   "cell_type": "code",
   "execution_count": 4,
   "metadata": {},
   "outputs": [],
   "source": [
    "#prende in input una lista di frasi, le probabilità di emisione e transizione apprese \n",
    "#restituisce le coppie parola-NER_TAG assegnate utilizzano l'algoritmo di Viterbi e applicando la tecnica di smoothing specificata\n",
    "def viterbi_tagger(sentences, emission_prob, transition_prob, unkown_prob, smoothing_type):\n",
    "    #inizializzazione\n",
    "    tags=transition_prob.keys()\n",
    "    transition_df = pd.DataFrame.from_dict(transition_prob)\n",
    "    all_sentences_tag = pd.DataFrame()\n",
    "    \n",
    "    for sentence in sentences:\n",
    "        words = sentence.split()\n",
    "        emission_sentence_df = pd.DataFrame(columns=words,index=tags)\n",
    "     \n",
    "        for word in words:\n",
    "            if word in emission_prob:\n",
    "                emission_sentence_df[word] = pd.Series(emission_prob[word]).values\n",
    "            else: #applicazione dello smoothing\n",
    "                if (smoothing_type==1): emission_sentence_df[word] =  {tag: 1 if tag == \"O\" else 0 for tag in tags}\n",
    "                elif (smoothing_type==2): emission_sentence_df[word] =  {tag: 0.5 if tag == \"B-MISC\" or tag == \"O\" else 0.0001 for tag in tags}\n",
    "                elif (smoothing_type==3): emission_sentence_df[word] =  {tag: 1/len(tags) for tag in tags}\n",
    "                elif (smoothing_type==4): emission_sentence_df[word] =  unkown_prob\n",
    "\n",
    "        sent_tag=viterbi(emission_sentence_df, transition_df)\n",
    "        all_sentences_tag=pd.concat([all_sentences_tag, sent_tag], axis=0)\n",
    "    return all_sentences_tag"
   ]
  },
  {
   "cell_type": "markdown",
   "metadata": {},
   "source": [
    "NAIVE TAGGER"
   ]
  },
  {
   "cell_type": "code",
   "execution_count": 5,
   "metadata": {},
   "outputs": [],
   "source": [
    "#Naive tagger --> utilizza la probabilità di emissione più alta, se parola sconosciuta --> B-MISC\n",
    "\n",
    "def naive_tagger(sentences, emission_prob):\n",
    " tags = []\n",
    " final_df = pd.DataFrame()\n",
    "\n",
    " for sentence in sentences:\n",
    "    words = sentence.split()\n",
    "    tags = []\n",
    "    for word in words:\n",
    "        if word in emission_prob:\n",
    "            tags.append(max(emission_prob[word], key=emission_prob[word].get))\n",
    "        else:\n",
    "            tags.append(\"B-MISC\")\n",
    "    \n",
    "    # Creazione del DataFrame\n",
    "    df = pd.DataFrame({'WORD': words, 'TAG': tags})\n",
    "    df['POSITION'] = df.index  # Aggiunge la colonna POSITION\n",
    "    df = df[['POSITION', 'WORD', 'TAG']]  # Riordina le colonne\n",
    "\n",
    "    final_df=pd.concat([final_df, df], axis=0)  \n",
    " return final_df"
   ]
  },
  {
   "cell_type": "markdown",
   "metadata": {},
   "source": [
    "Esempio di Decoding Completo"
   ]
  },
  {
   "cell_type": "code",
   "execution_count": 11,
   "metadata": {},
   "outputs": [
    {
     "name": "stdout",
     "output_type": "stream",
     "text": [
      "inizio lingua: en\n",
      "sentence:  [\"On this occasion he failed to gain the support of the South Wales Miners ' Federation and had to stand down .\", \"On both these occasions he was backed by the South Wales Miners ' Federation , but he was not successful .\", 'He also appeared as himself in the 1996 film \" Eddie \" .', 'The Colorado Rockies were created as an expansion franchise in 1993 and Coors Field opened in 1995 .', 'He kept busy recording demo tapes at his home and working various jobs , including a position as a contracted security guard at the La Valencia Hotel in La Jolla .', 'included future Rage Against the Machine and Audioslave drummer Brad Wilk .', 'Ten \" brought the band into the mainstream , and became one of the best selling alternative albums of the 1990 s , being certified 13x Platinum .', '] ] Following an intense touring schedule , the band went into the studio to record what would become its second studio album , \" Vs. \" , released in 1993 .', 'All of this greenery was fed with South Platte River water diverted through the city ditch .', 'He covered the Beatles \\' \" You \\'ve Got to Hide Your Love Away \" for the \" I Am Sam \" soundtrack .', 'The soundtrack was released on September 18 , 2007 through J Records .', '\" He appears in the 2003 Ramones documentary , \" End of the Century : The Story of the Ramones \" .', 'In 2007 , he made a cameo as himself in the comedy film , \" Walk Hard : The Dewey Cox Story \" .', \"All of the city 's seats in the state legislature are held by Democrats .\", 'He also appears in the 2012 documentary \" West of Memphis \" , protesting against the case .', 'He was like , \" Hey , welcome to Seattle .', 'These guys [ the other members of Pearl Jam ] know him much longer than me and his impact is profound \" .', \"He also has paddled outrigger canoes on occasion and in 2005 was nearly lost at sea trying to paddle from Moloka'i to Oahu .\", \"At a rate of 19 homeless per 10,000 residents in 2011 as compared to 50 or more per 10,000 residents for the four metro areas with the highest rate of homelessness , Denver 's homeless population and rate of homeless are both considerably lower than many other major cities .\", \"He attended Milligan College where he was an outstanding end and punter on the school 's football team .\", '281 in 1933 and played his last major league game on September 23 , 1933 , against the New York Yankees .', 'The following month , he signed a contract to play for the Newark Bears in the International League .', 'He made a third appearance in a loss to Arsenal at Highbury , before being dropped for six matches .', 'The city voted 53.5 percent in favor of the marijuana legalization measure , which , as then-mayor John Hickenlooper pointed out , was without effect , because the city cannot usurp state law , which at that time treated marijuana possession in much the same way as a speeding ticket , with fines of up to $ 100 and no jail time .', 'He also played for several FA representative teams not officially described as \" England \" .', 'He took charge of just one match , as Norway were defeated 4 – 1 by neighbours and reigning gold medallists Sweden in the first round of the tournament .', 'Returning to Eskilstuna , he told the press that he wanted to initiate a new playing style of \" long , sweeping passes \" , and in addition to coaching the first team he also took charge of the youth team and coached at local Eskilstuna schools .', 'Despite his apparent unpopularity , he still managed to take the club to a second-place finish at the end of the 1953 – 54 season , one place ahead of Eskilstuna .', 'Most of the streets downtown and in LoDo run northeast–southwest and northwest–southeast .', 'In response , Sunflowers forecast 500,000 sales by the end of 2006 .', 'This placed it second for 2006 , behind \" World of Warcraft \" at 345,000 units .', 'The family spoke Judaeo-Spanish at home .', 'It was not until about 1907 – 1909 that he produced his first paintings , which were portraits and nudes in a style influenced by Fauvism and Cézanne .', 'Lyft plans to offer ride-sharing , electric scooter and e-bike services all from its app. It says that it will , each night , take the scooters to the warehouse for safety checks , maintenance and charging .', 'He made many drawings of street life in Charleston , New Orleans , and other places he visited .', 'Some of his works of 1915 and 1916 are in a Cubist style , which he soon abandoned .', \"Always in his bowler hat , he was a witty presence , along with his good friend Constant Detré , at Le Dôme Café , Jockey-Club de Paris , and the other haunts of the area 's bohemian society .\", 'A catalyst for even greater transformation of the area was the opening in June 2009 of the first segment of the High Line linear park .', 'Further development of a mountain corridor rail option , though publicly popular , has been met with resistance from politicians , namely the director of Colorado Department of Transportation .', 'On Rotten Tomatoes , the film holds an approval rating of 67 % based on , with a weighted average rating of 5 / 10 .', 'By late May , however , he was back in the minors with the double A Tulsa Drillers after batting .', 'Shortly afterwards , he signed with the Cleveland Indians .', '139 for the triple A Buffalo Bisons .', 'It was the first commercially available Dutch personal / home computer .', 'The match ended in 2 – 2 draw with Cagliari .', 'In summer 2006 , he was loaned to Pizzighettone .', 'After an unsuccessful half-season , he was loaned to Torres .', 'In July 2008 , he signed a 1 + 2-year contract with Foggia on free transfer .', 'The first model ( launched June 1982 ) looked like the later IBM PC ( which came on the market years later ) , a rectangular base unit with two floppy drives on the front , and a monitor on top with a separate detachable keyboard .', 'On 19 July 2013 he was signed by Catanzaro in 1 + 1 year contract .', 'He also scored once against former club Benevento in promotion playoffs , losing 1 – 2 .', 'On 30 June 2014 he was signed by SPAL .', 'At the end of the season it is not confirmed , and accords with the Padova .', 'The second incarnation was a much smaller unit the width of two 5 \" floppy drives stacked on top of each other , and the third incarnation looked like a flattened Apple with a built-in keyboard .', 'On 2 September 2019 , he signed with Cavese .', 'The music was composed and conducted by Ronald Stein .', 'The film was originally released as a double feature with \" The Little Shop of Horrors \" .', 'The film is in the public domain , and several DVD editions exist , including one by Alpha Video .', 'All units ran much faster than the original TRS-80 , at 4 MHz , ( with a software selectable throttle to the original speed for compatibility purposes ) and the display supported upper and lower case , hardware snow suppression ( video ram bus arbitration logic ) , and an improved character font set .', \"He developed coal mines on his wife 's land in County Durham .\", 'He saw service in 1794 in the Flanders Campaign of the French Revolutionary Wars .', 'In all these terms as MP he supported the Tory interest .', 'She was the 4th and youngest daughter of the 3rd Earl of Darnley .', 'The floppy disk interface supported dual density , and disk capacities up to 800 KB , more than four times the capacity of the original TRS-80 .', 'On 12 August 1822 , his half-brother committed suicide He succeeded his half-brother as \" 3rd Marquess of Londonderry \" in 1822 .', \"Lord Londonderry used his new bride 's immense wealth to acquire the Seaham Hall estate in County Durham to developing the coalfields there .\", 'He also built the harbour at Seaham , to rival nearby Sunderland .', 'It was completed by Philip Wyatt in 1841 and cost £ 130,000 ( equivalent to £ 10,772,000 in 2016 ) to build and furnish .', 'Among the kits sold there were also alternative floppy disk drives for TRS-80 computers .', 'During the tenant right campaign of the early 1850 s Londonderry insisted on his full rights and this alienated many of his tenants .', 'He was in disagreement over this question with his son and heir Frederick , who was more liberally inclined .', 'He died on 6 March 1854 at Londonderry House and was buried in Longnewtown , County Durham .', 'It has been a Mattel brand since 1992 .', 'But these needed the infamous TRS-80 expansion interface , which was very expensive , and had a very unreliable floppy disk controller because it used the WD1771 floppy disc controller chip without an external \" data separator \" .', 'He won Paris–Roubaix three times .', 'He represented Serbia at the 2010 FIFA World Cup .', 'In January 2003 he moved to Sartid Smederevo .', 'Ajax signed Mounir El Hamdaoui as his successor .', 'After designing their own fully functional replacement for the TRS-80 expansion interface ( which was never commercialized ) the company realized that they could do better than just re-designing the expansion interface .', 'Her semi-autobiographical novel \" One True Thing \" ( 1994 ) served as the basis for the 1998 film starring Meryl Streep and Renée Zellweger .', 'In 1999 , she joined \" Newsweek \" , writing a bi-weekly column until she announced her semi-retirement in the May 18 , 2009 , issue of the magazine .', '\" One True Thing \" was made into a feature film in 1998 .', 'In 1994 , her semi-autobiographical novel , titled \" One True Thing \" , was published .', 'They observed that the TRS-80 was a great computer but it lacked in several areas .', 'It can now be found on digital online streaming on Vudu and digital download on iTunes .', 'It was the first all-black show to reach the Broadway stage in over a decade and included a young Josephine Baker among the performers .', 'Fellow Belgian Johan Museeuw had escaped to a solo victory .', 'He won the race in Madrid , after the leading six riders were caught .', 'Because the original designer had left the company another employee completely redesigned most of the system , ( adding a display snow remover circuit , true 80 / 64 column text mode support , ( with different size letters for TRS-80 and CP / M mode , so that in TRS-80 mode the full screen was also used , not just a 64 × 16 portion of the 80 × 25 screen ) with an improved font set ( adding \" gray scale \" version of the TRS-80 mozaik graphics and many special PETSCII like characters ) , and a more flexible and reliable floppy disk controller and keyboard interface plus many other small improvements ) , also an enclosure was developed for the main computer system , ( in the form of a 19-inch rack for the Eurocards ) and for two floppy disk drives and the power supply .', 'However , he did not win a stage in the first week , beaten by Robbie McEwen and Óscar Freire .', 'In the Tour of Flanders , he took on a defensive role when his teammate Stijn Devolder escaped and won .', 'A week later , he outsprinted Fabian Cancellara and Alessandro Ballan in the final 500 m to win the Paris–Roubaix .', 'Its sporting director , Jean-René Bernaudeau , confirmed the report .', 'A software engineer was hired to write the special \" dual boot mode \" BIOS and the special CP / M BIOS .', 'In February 2009 a Belgian court found him guilty of cocaine use but decided against sanctions , saying he has \" been punished enough \" .', 'He returned to racing in the Eneco Tour where he won the third stage by beating Tyler Farrar in the sprint .', 'After that he entered the Vuelta a España to prepare for the final part of the season .', 'He finished his season with a second place in Paris–Tours , beaten in a sprint of three by fellow countryman and defending champion Philippe Gilbert .', 'About a thousand of such systems were sold for many hundreds of Dutch schools .', 'His third victory equalled those of Achiel Buysse , Fiorenzo Magni , Eric Leman and Johan Museeuw .']\n",
      "DataFrame salvato in formato CoNLL-U: ../data/en/tagging/golden_tag.conllu\n",
      "DataFrame salvato in formato CoNLL-U: ../data/en/tagging/viterbi_tag.conllu\n",
      "DataFrame salvato in formato CoNLL-U: ../data/en/tagging/naive_tag.conllu\n",
      "fine lingua: en\n",
      "inizio lingua: it\n",
      "sentence:  ['Si stabilì ad Amburgo per la sua ammirazione nei confronti della letteratura tedesca ( aveva imparato la lingua in carcere ) , specialmente per i romantici come Novalis e Hölderlin .', \"Anche i veicoli interplanetari utilizzano principalmente i razzi chimici , anche se alcuni hanno usato sperimentalmente con successo i nuovi propulsori ionici ( come ad esempio il satellite dell' ESA SMART-1 ) .\", \"Dal 1866 al 1869 egli frequentò il liceo di recente costruzione a Arnhem , e nel 1870 egli passò gli esami sulle lingue classiche necessario per l' ammissione all' università .\", 'Una strada militare venne costruita attraverso le colline che vanno da Vladikavkaz fino a Tbilisi .', 'Raggiunge la popolarità nel 1988 nel varietà televisivo \" Cocco \" di Rai 2 con il personaggio dell\\' automobilista \" incazzato come una bestia ! \" .', 'Nel 2009 , 2010 , 2011 , 2012 , 2013 , 2014 e 2016 continua a partecipare a \" Zelig \" TV in onda su Canale 5 .', 'Nel 2013 è nel \" cast \" di \" Pazze di me \" , regia di Fausto Brizzi ; sempre nello stesso anno partecipa a \" Vinodentro \" , con la regia di Ferdinando Vicentini Orgnani .', 'Dal 2014 al 2017 è protagonista di un format di grande successo presso il Teatro Franco Parenti : \" Giovedix letterari \" , un percorso dedicato alle letterature che lo hanno influenzato e appassionato , leggendo , commentando e stimolando curiosità , riflessioni , connessioni .', 'Al fine di rafforzare il controllo del territorio , la Russia vi inviò delle popolazioni russe settarie , principalmente dissidenti ortodossi dei quali lo zar voleva sbarazzarsi , come i molokani , autoritariamente insediati nel Caucaso .', 'Tre furono anche i titoli mondiali : a Stoccarda nel 1993 , a Göteborg nel 1995 e a Edmonton nel 2001 ; nel 1997 ad Atene fu nono , unico piazzamento fuori dal podio iridato nel decennio al vertice , mentre a Siviglia nel 1999 , al rientro da un grave infortunio , arrivò alla medaglia di bronzo .', \"Con l' uscita di questo disco , l' Italia ha assistito alla nascita di una delle più importanti figure dell' hip hop nazionale .\", 'Il brano \" Il bianco e il nero \" è tratto da un discorso di Sandro Pertini .', \"È patrono del comune di Isernia , sua patria terrena e compatrono dell' Aquila , di Ferentino , di Urbino e del Molise .\", \"La Georgia proclamò per prima la sua indipendenza proprio in questo giorno , imitata dall' Azerbaigian ( 27 maggio ) e poi dall' Armenia ( 28 maggio ) .\", 'Due giorni dopo , venne ritrovata nel cimitero di Cornelle e Roccapassa , frazioni del comune di Amatrice .', \"Il 10 marzo 2017 , in occasione dei suoi 20 anni , l' album è stato ripubblicato in formato LP dalla Sony Music .\", \"Questi codici sono stati definiti dall' Organizzazione Internazionale dell' Aviazione Civile ( ICAO ) .\", \"La seconda lettera è in genere l' iniziale dello stato , per cui ad esempio l' Italia usa LI .\", \"Questi stati transcaucasici si sono avvicinati all' Unione europea aderendo al Consiglio d' Europa all' inizio del 2000 .\", \"Nato a Malé Svatoňovice in Boemia , nell' Impero austro-ungarico , figlio di un dottore , studiò filosofia a Praga per poi divenire giornalista .\", \"L' opinione del CICAP invece , attribuirebbe il ricordo del tunnel come effetto dell' ipossia cerebrale , che restringerebbe o , comunque , altererebbe il campo di tutto l' apparato visivo .\", 'Osserva Antonio Socci : \" È stato rilevato che le NDE di segno negativo e spaventoso in genere sono tenute più riservate dai diretti interessati e per questo , nel complesso , sono statisticamente meno numerose . \"', 'Sono numerosi i resoconti di esperienze di pre-morte negli scritti di autori come Platone , Emanuel Swedenborg , Edward Burnett Tylor , Thomas De Quincey , Oscar Lewis , Ernest Hemingway , Lev Tolstoj , Victor Hugo e tanti altri .', 'Fanno eccezione la specie \" Beesonia napiformis \" , il cui areale , dalla regione orientale ( Cina e Nepal ) , si espande fino al Paleartico orientale ( Cina settentrionale , Giappone e Corea ) , \" Beesonia napiformis \" , presente nella Regione australasiana ( Queensland ) , e il genere \" Limacoccus \" , che ha invece distribuzione neotropicale .', 'Sull \" Avanti ! \"', \"Nella sede del giornale stringe amicizia con Giovanni Papini , che lo presenta all' editore Vallecchi che accetta di curare le pubblicazione delle sue nuove liriche .\", 'Nell\\' aprile del 1919 nasce \" La Ronda \" .', \"Il Regno Unito era già in quell' epoca una monarchia parlamentare stabile , nella quale il sovrano aveva pochi poteri politici diretti .\", ', cioè di una linea comune di intesa che poi ebbe nuovi fasti col buon rapporto tra François Mitterrand ed Helmut Kohl .', 'Due giorni dopo il 23 giugno assunse due musulmani indiani come camerieri , uno dei quali era Abdul Karim .', 'Inoltre la città di Port Victoria , capitale delle Seychelles , il Lago Vittoria , il più grande lago africano , e le Cascate Vittoria , le più grandi al mondo , devono il loro nome alla sovrana britannica .', 'La statua più grande è quella di fronte a Buckingham Palace che fu eretta come parte del rifacimento della facciata del palazzo un decennio dopo la sua morte .', \"Dopo decenni di declino la statua fu regalata all' Australia negli anni ottanta .\", \"È stato anche buon amico con l' ex primo ministro canadese Pierre Trudeau .\", \"La seconda città è Stromness , sulla costa occidentale di Mainland , con 2.000 abitanti circa , mentre il terzo insediamento è St Margaret ' s Hope su South Ronaldsay .\", \"I primi insediamenti permanenti conosciuti si trovano a Knap of Howar , un villaggio neolitico sull' isola di Papa Westray risalente al 3500 avanti Cristo .\", \"Si pensa che il villaggio di Skara Brae , l' insediamento neolitico meglio preservato d' Europa , sia stato abitato circa dal 1300 avanti Cristo .\", 'I Vichinghi resero le isole il quartier generale delle loro spedizioni piratesche intraprese contro la Norvegia e le coste della terraferma scozzese .', \"Altri ospiti inclusi l' ex cancelliere Gerhard Schröder , gli ex presidenti Christian Wulff , Horst Köhler , Roman Herzog e il sindaco di Amburgo Olaf Scholz .\", 'alle iscrizioni runiche a Maeshowe .', 'Da almeno il XVI secolo , barche provenienti dalla terraferma scozzese e dai Paesi Bassi dominavano la pesca locale delle aringhe .', 'Nel XVII secolo , gli orcadiani erano la stragrande maggioranza degli impiegati dalla Compagnia della Baia di Hudson in Canada .', \"Durante questo periodo , la combustione delle alghe divenne il perno dell' economia delle isole : ad esempio , a Shapinsay , furono prodotte oltre 3.000 tonnellate all' anno di alghe combuste per produrre il carbonato di sodio , che apportarono 20.000 sterline all' economia locale .\", \"È la terza lingua parlata a Gibilterra dopo l' inglese ( ufficiale ) e lo spagnolo ed è parlata da circa 20.000 - 25.000 persone .\", 'Le isole non hanno grandi elevazioni , ad eccezione di alcune colline in arenaria su Hoy , Mainland e Rousay , e alcune costiere frastagliate su alcune coste occidentali .', 'Questo lungo crepuscolo è conosciuto nelle isole del Nord come \" simmer dim \" .', 'L\\' isola più a nord è North Ronaldsay , che sorge 4 \" km oltre l\\' isola più vicina , Sanday ; ad ovest sorge Westray , con una popolazione di 550 persone .', \"Eday si trova al centro delle Isole del Nord ; al centro dell' isola si trova la brughiera e le principali industrie sono l' estrazione della torba e l' escavazione del calcare .\", 'Il termine colloquiale \" los Llanis \" è usato a La Línea de la Concepción , Algeciras e nelle città vicine .', 'South Walls contiene una torre Martello del XIX secolo ed è collegata ad Hoy via aerea .', 'South Ronaldsay , Burray , Glims Holm e Lamb Holm sono collegate via strada a Mainland tramite le Churchill Barriers .', 'Le isole meridionali disabitate sono : Calf of Flotta , Cava , Copinsay , Corn Holm , Fara , Glims Holm , Hunda , Lamb Holm , Rysa Little , Switha e Swona .', 'Le Pentland Skerries si trovano molto più a sud , vicine alla terraferma scozzese .', \"Con la fine del matrimonio l' attore decise di vendere la fattoria per trasferirsi nel New Hampshire , dove morì nel 1967 a causa di un' emorragia addominale .\", \"La striatura glaciale e la presenza di gesso e massi erratici originari dai basamento del Mare del Nord dimostrano l' influenza dell' azione del ghiaccio nella geomorfologia delle isole .\", 'Il Partito Nazionale Scozzese scelse di non contendere il seggio per dare al movimento maggiore libertà .', 'Nei volumi si ritrovano tutti i temi fondamentali della mitologia fantastica dei mondi immaginari de \" Lo Hobbit \" , \" Il Signore degli Anelli \" e soprattutto \" Il Silmarillion \" .', \"In seguito si reca negli Stati Uniti d' America .\", 'Il tratto in territorio spagnolo è classificato soprattutto come Autopista AP-7 .', 'Vorrebbe presentare \" Ho visto un re \" nello scontro diretto contro Gianni Morandi , .', 'Nei periodi di pausa dall\\' attività lavorativa , torna quindi a Milano , dove dedica molto tempo alla realizzazione , col giornalista Beppe Viola , di uno spettacolo teatrale , \" La tapparella \" e di un libro , \" L\\' incompiuter \" , edito dalla Bompiani in una collana diretta da Umberto Eco .', 'più una versione italiana di \" The windmills of your mind \" di Michel Legrand .', 'La camera ardente è stata allestita il 31 marzo e 1º aprile al foyer del Teatro Dal Verme .', \"Ha inoltre tradotto un cospicuo numero di lavori dall' inglese al giapponese , spaziando da Raymond Carver a J. D. Salinger .\", 'La lista di Manetone riporta solamente : \" ...', 'Figlio di Cheope , sposò la sorellastra Hetepheres II , forse per rafforzare il proprio diritto al trono , essendo la madre solamente una moglie secondaria di Cheope .', 'Beatrice spiega che si tratta di Adamo .', 'La lingua da lui creata ed usata si perse del tutto già prima della costruzione della torre di Babele : nessuna opera umana può durare per sempre .', 'Successivamente si iscrive al liceo Kōbe , nella città omonima , rinomato istituto di preparazione per gli esami di ammissione alle migliori università .', 'In passato è stata confusa con la \" Salamandra atra \" , diffusa nelle Alpi Orientali , da cui si distingue per caratteri morfologici e genetici .', 'In Italia è attestato il suo uso anche al femminile .', \"Così si fa nera la pelle bianca della bella figlia di colui che viene la mattina e parte di sera ( passo oscurissimo che ha provocato molte e discordanti interpretazioni : chi intende la figlia del sole come Circe , simbolo dei beni mondani , chi come Aurora , semplice icona di bellezza la cui pelle da bianca diventa nera a rappresentare come l' umanità si corrompa tanto da degenerare in uno stato bestiale , dalla pelle scura appunto ) .\", 'L\\' autorevole commentatore Luigi Pietrobono sostiene che in questo stesso canto è detto che i Serafini formano il cerchio \" che più ama e più sape \" ; e amano di più perché vedono di più : conoscere e amare sono dunque due aspetti di una medesima realtà , e se il secondo non si concepisce senza il primo , il primo senza il secondo non darebbe beatitudine alcuna .', 'Oltre al già citato Carver , sono presenti Franz Kafka , Francis Scott Fitzgerald , Raymond Chandler , John Irving , Fëdor Dostoevskij , J. D. Salinger , Anton Čechov , Gabriel García Márquez , Richard Brautigan , Kurt Vonnegut , Philip K. Dick , Truman Capote , Honoré de Balzac e William Shakespeare .', \"56 - 57 ) Lucifero , conficcato al centro del globo terrestre e compresso quindi dalla forza di gravità di tutto l' universo .\", 'Per ragioni territoriali e amministrative , la Romania è divisa in 41 contee , più la città di Bucarest .', 'Il governo centrale nomina un prefetto per ogni contea e per la municipalità di Bucarest .', 'Il Partito Comunista Rumeno cessò di esistere .', 'Nello stesso periodo fu impegnata nella creazione della colonna sonora dell\\' anime \" Noir \" prodotto dallo studio Bee Train .', 'Durante i seguenti 4 anni la Romania ebbe tre primi ministri .', \"La Romania presenta un sistema multipartitico , con numerosi partiti politici , nel quale nessuno di essi spesso ha l' opportunità di giungere al potere da solo : i partiti devono pertanto giungere ad accordi interni e formare governi di coalizione .\", 'Per lo svolgimento delle elezioni parlamentari del 2008 , il Presidente Traian Băsescu intendeva introdurre un nuovo sistema a due turni , ma un referendum del 2007 bocciò la proposta per affluenza insufficiente .', \"Sono state sollevate molte critiche al fatto che siano non sufficienti questo numero di parlamentari in quanto è numerosa la popolazione rumena residente all' estero e che con le sue rimesse aiuta notevolmente l' economia della Romania .\", \"Nel 1998 l' American Film Institute l' ha inserito al novantaseiesimo posto della classifica dei migliori cento film statunitensi di tutti i tempi , mentre dieci anni dopo , nella lista aggiornata , è salito al dodicesimo posto .\", \"Quando queste opere giunsero in Inghilterra erano ancora tramandate in forma esclusivamente orale da una generazione all' altra e costituivano il patrimonio culturale dei popoli germanici .\", 'Questo secondo gruppo si origina dalla conversione dei popoli anglosassoni dopo il loro arrivo in Inghilterra .', 'La composizione del poema , da parte di un anonimo anglosassone a cui solitamente ci si riferisce semplicemente come al \" poeta di Beowulf \" , si colloca tra l\\' ottavo e l\\' undicesimo secolo .', 'Uno dei principali esempi del genere della cronaca è la Cronaca anglosassone , una raccolta di annali in inglese antico che tratta della storia del popolo anglosassone .', \"Il film è basato sull' omonimo romanzo del 1954 di Alan Le May , che condusse personalmente ricerche su 64 casi di bambini rapiti dagli indiani .\", \"I misteri sono comunque tra le prime rappresentazioni formalizzate nell' Europa medievale .\", 'Egli inoltre tradusse in inglese le opere del francese Michel de Montaigne .', 'Tra i maggiori poeti rinascimentali abbiamo Edmund Spenser ( 1552 - 99 ) che fu l\\' autore del poema \" La regina delle fate \" , composto tra il 1590 e il 1596 , un poema epico-allegorico che celebrava la Dinastia Tudor e la regina Elisabetta .', 'Altri autori , come Thomas Campion , scelsero di scrivere poesie pensate per essere messe in musica e cantate .', 'Visse 24 anni con i Comanche , sposò un capo ed ebbe tre figli , uno dei quali fu il famoso capo Quanah Parker .', 'Il letterato George Chapman ( circa 1559 - 1634 ) è stato un autore di tragedie , ma è oggi noto per le sue traduzioni in inglese dell \" Iliade \" e dell \" Odissea \" .', 'La riunione di tutti questi poeti sotto il nome di \" poeti metafisici \" si deve a Samuel Johnson .', 'Locke analizza le società umane a partire da quelle più semplici a quelle più elaborate e come Thomas Hobbes , enfatizza la natura , pone enfasi sulla natura malleabile del contratto sociale .', 'È impossibile porre una data soddisfacente come inizio del romanzo in Inghilterra .', 'Professionista dal 1969 al 1987 , vinse il Tour de France 1976 .', 'Il suo romanzo più famoso è \" Oronooko \" del 1688 , la storia di un ipotetico re africano fatto schiavo in Suriname .']\n",
      "DataFrame salvato in formato CoNLL-U: ../data/it/tagging/golden_tag.conllu\n",
      "DataFrame salvato in formato CoNLL-U: ../data/it/tagging/viterbi_tag.conllu\n",
      "DataFrame salvato in formato CoNLL-U: ../data/it/tagging/naive_tag.conllu\n",
      "fine lingua: it\n",
      "inizio lingua: es\n",
      "sentence:  ['El principal personaje jugable , que se puede jugar durante la mayor parte del juego , es Ratchet ; Clank se puede utilizar en varias partes del juego .', 'Como Ratchet , el jugador navega en diversos entornos , derrotando a los enemigos con una variedad de diferentes armas y artilugios , y atravesando obstáculos .', 'El 11 de enero de 2016 , se confirmó que el juego se lanzaría en Francia el 15 de abril de 2016 , el resto de Europa el 20 de abril de 2016 y el Reino Unido el 22 de abril de 2016 .', 'En abril de 2013 donó cerca de 61 \" 000 dólares a GLAAD , una organización que defiende los derechos de la comunidad LGBT .', 'En 1928 no fue llevado a una gira por Sudáfrica debido a motivos raciales de parte de los afrikáner .', 'Su familia vivió hasta 1950 en Dresde , después en Berlín Oeste , y entre 1951 y 1954 en Heidelberg , dependiendo de los equipos en los que jugara el padre .', 'En ese año disputó cinco partidos del torneo juvenil de la UEFA ; en la final frente a Inglaterra anotó el gol del 3:2 que daba la victoria a su equipo jugando de delantero por la derecha .', 'Fue convocado para la Selección de fútbol de Alemania Democrática durante la temporada 1967 - 68 .', 'Fue considerado el mejor jugador de su país durante décadas , y , durante varios años , también el mejor en Europa .', 'Gracias a su escuela de fútbol el Hamburgo S.V. se fijó en él y lo contrató como ojeador .', 'Desde abril de 2010 es el jefe de ojeadores del RasenBallsport Leipzig .', 'De niño era aficionado a la lectura de novelas de Julio Verne y Emilio Salgari .', 'Con 13 años , tras la separación de sus padres , se trasladó junto a su madre al barrio madrileño de Vallecas .', 'En 1980 y 1983 fue elegido como el MVP en toda Europa .', 'A diferencia de la interpretación de The Zutons , más cargada a las guitarras y una cuestión más roquera , Mark Ronson supo darle un giro y aprovechó el particular talento vocal de Amy Winehouse exprimiendo al máximo el soul de su voz , combinándolo con el motown y el pop clásico y el ingrediente de los instrumentos de viento que acompañasen en determinados momentos de la canción .', 'Luego fue asistente de Stan Van Gundy con el Orlando Magic .', 'La película logró recaudar un total de $ 4.878.284 solo en Polonia , y un total de $ 2.348.656 en el resto del mundo , para un total bruto de $ 7.226.940 .', 'Durante los siguientes años vivió en Inglaterra y en Estados Unidos , donde escribió únicamente en inglés .', 'Es primo del actor Andrés Resino .', 'El 27 de junio de 2014 se anunció su fichaje por el Bayer 04 Leverkusen a cambio de 225 \" 000 euros .', 'Fue reclamado en el mes de marzo por los Cleveland Cavaliers , con los que jugó 15 partidos , en los que promedió 4,3 puntos y 2,6 asistencias .', 'El jugador es actualmente el segundo arquero del club , por detrás del internacional argentino Mariano Andújar .', 'En 2015 es seleccionado para formar parte de la selección sudafricana que participa en la Copa Mundial de Rugby de 2015 .', 'También ha hecho bandas sonoras para David Lynch .', 'Sin embargo , regresó a competir en 1970 , ganando el oro en los 100 m y 200 m pecho y otra medalla de plata en medley en los Campeonato Europeo de Natación de 1970 .', 'Sin embargo , abandonó el periodismo rápidamente , y entre 1976 y 1980 trabajó como funcionaria de deportes , y después de 1980 fue entrenadora de niños en el CSKA Moscú .', 'El nombre científico de la especie se refiere a Chaoyang .', 'Después de su formación en 2001 , The Format dio a conocer un demo , titulado \" EP \" , lo que generó interés local y llevó a la banda a firmar con Elektra Records en 2002 .', 'Siendo estudiante de diseño gráfico en la escuela de arte de Stockport , se interesa en la ola de punk rock , lo cual hace que deje la carrera y se enseñe asimismo el bajo .', 'También interesado por la Retórica de Aristóteles , compuso una edición anotada .', 'Publicado por primera vez en un solo volumen , clasifica , con muchos años por delante de Johann Bayer , a las estrellas por su brillo , mediante la asignación de una letra del alfabeto latino .', 'En la década de 1970 tocó junto con Lionel Hampton y Count Basie además de producir otros materiales como líder .', 'Fue liberado poco después de que se uniera a la organización y al ser puesto en \" waivers \" fue reclamado por los Oakland Athletics .', 'A finales de 1977 responde a un aviso hecho por Howard Devoto para formar una banda , la cual sería Magazine .', 'En la región sur de Asia , se considera una especie rara .', 'Es protagonizado por la actriz de la película \" Inglourious Basterds \" , Diane Kruger , quien personifica a Boy George en una fiesta , supuestamente el 14 de junio de 1982 .', 'Más tarde , en 1994 , fue nombrado por la localidad húngara de Eger .', 'Eger está situado a una distancia media de 1,405 \" ua del Sol , pudiendo acercarse hasta 0,907 \" ua y alejarse hasta 1,902 \" ua .', 'Sin embargo , los posteriores álbumes , \" Secondhand Daylight \" , de 1979 , \" The Correct Use Of Soap \" , de 1980 , y \" Magic , Murder And The Weather \" , de 1981 , aunque también influyentes , no lograron buenos éxitos comerciales .', 'Los muchos grandes complejos vacacionales de la región dieron a innumerables jóvenes cómicos en vivo una oportunidad para perfeccionar su oficio - la película \" Dirty dancing \" está ambientada en uno de estos complejos turísticos - .', 'Originalmente , este cuento fue publicado en el año 1950 como \" \" Muerte por lluvia \" \" en la revista \" Planet Stories \" y luego en la colección \" El hombre ilustrado \" .', 'Fue uno de los primeros grupos de cuentos seleccionados para formar parte de la colección \" El hombre ilustrado \" .', 'AL volante de un BMW M3 oficial de Prodrive , sumó 11 victorias en 13 carreras , por lo cual obtuvo el título en la clase B y el subcampeonato absoluto .', 'Ha sido internacional con la Selección de fútbol de los Países Bajos , ha jugado 1 partido internacional .', 'Cosechó cinco triunfos en 11 carreras , y terminó subcampeón con dos puntos menos que Fermín Vélez .', 'Anotó un triplete el 12 de octubre de 2012 , en la victoria 0 - 6 como visitante sobre por las eliminatorias a la Copa Mundial de Fútbol de 2014 .', 'Está dirigida por Alexander Payne .', 'Ha sido internacional con Grecia en categorías inferiores .', 'Firmó con los San Antonio Spurs como agente libre el 29 de septiembre de 1995 .', 'Fue reemplazado en el minuto 61 por Víctor Dávila , y tuvo una oportunidad de gol que atajó Pedro Gallese y que Nicolás Castillo falló finalmente .', 'El 5 de septiembre jugó ante los argentinos , siendo nuevamente intrascendente y fue reemplazado en el entretiempo por Diego Rubio .', 'Volvió a ganar una etapa del Tour de Langkawi , una del Giro del Trentino y una del Tour de Luxemburgo .', 'ª ) detrás de Alessandro Petacchi .', '\" Pachira aquatica \" fue descrita por Jean Baptiste Christophore Fusée Aublet y publicado en \" Histoire des Plantes de la Guiane Françoise \" 2 : 726 UNK 727 , pl. 291 UNK 292 .', 'Ha sido internacional con la Selección de fútbol de Gales , ha jugado 1 partido internacional .', 'Max Thieriot y Olivia Cooke fueron protagonistas del reparto principal a lo largo de la duración de la serie .', 'Después de aparecer fuertemente en la primera temporada , Nestor Carbonell se sumó al reparto principal a partir de la segunda temporada .', 'Es una comedia con Renato Pozzetto .', 'Adolf Hitler está inmerso en una búsqueda para encontrar el Arca de la Alianza , en la que se hallan guardados los diez mandamientos cuyos poderes sobrenaturales , de acuerdo con un mito , pueden eliminar a ejércitos en su totalidad .', 'Ganó once medallas en el Campeonato Mundial de Esgrima entre los años 1971 y 1982 .', 'En Bosnia y Herzegovina la unidad territorial más pequeña es el municipio ( \" opština \" / општина o \" općina \" / опћина en el idioma oficial del país ) .', 'Diez de ellos formaban la zona de Sarajevo .', 'Después de la guerra el número de municipios aumentó a 143 : 79 en la Federación de Bosnia y Herzegovina y 64 en la República Srpska ; el Distrito de Brčko no pertenece a ninguna entidad .', 'Poco después de haber creado el boceto , se reunió con el guionista y director Philip Kaufman , quien después de varias semanas de discusión introdujo el Arca de la Alianza como principal elemento narrativo de la primera aventura .', 'Jugó posteriormente en diferentes ligas asiáticas y europeas , acabando su carrera en los Cañeros del Este de la República Dominicana .', '( 2007 ) de Tyler Perry .', 'Fue rodado en una película Super-8 barata durante las dos semanas de filmación para \" B\\'Day Anthology Video Album \" ( 2007 ) .', 'Los críticos señalaron que la cantante emula a Marilyn Monroe , Brigitte Bardot y Barbra Streisand en el clip .', 'En su lugar , un segundo concepto , \" Star Wars \" , comenzaría a ser ampliamente desarrollado para convertirse en \" Una nueva esperanza \" .', 'Beyoncé no hace sincronía de labios pero actúa partes de la canción y posa .', 'Varias de las escenas utilizadas habían sido rodadas en 2006 para un anuncio promocional de \" B\\'Day \" por Walmart .', 'La presentación de Los Ángeles fue grabada y publicada en el álbum en directo \" The Beyoncé Experience Live \" .', 'Asimismo , fue mostrada independientemente en MTV y se publicó a través de descarga digital en las tiendas de iTunes en enero de 2007 .', 'Todas las escenas en Egipto en realidad se filmaron en Túnez , lo cual explica el hecho de que en ningún momento se ve algún monumento reconocible , además de que ya conocían ese último país .', \"En 2011 , la marca de lencería Victoria 's Secret escogió la canción para su desfile anual Victoria 's Secret Fashion Show .\", 'Se distribuye desde Colombia a Perú y se ha naturalizado en otras localidades como planta ornamental .', 'Es originaria de Colombia y Perú e introducida en Florida , México , Antillas , América Central .', 'Ha sido uno de los 31 hombres incluidos por el seleccionador nacional para la Copa Mundial de Rugby de 2015 .', 'Contó con dos relanzamientos en Estados Unidos ; el primero sucedió en julio de 1982 , lo que se tradujo en ingresos adicionales por un total de nbsp ; 21 \" 437 \" 879 USD durante su presentación en 1330 salas de cine , mientras que el último aconteció en marzo de 1983 , con recaudaciones de nbsp ; 11 \" 374 \" 454 USD tras una proyección en 628 salas de cine .', 'Desde estos reconocimientos , el continuó su carrera como cantante dentro de la industria del cine , junto a Ahmed Rushdi .', 'En enero de 2020 fue cedido hasta final de temporada al Albacete Balompié .', 'El episodio piloto tenía una temprana liberación en NBC .', 'El 27 de marzo de 2013 , el NBC anunció posibles proyectos spin-off .', 'El largometraje fue lanzado a formato de vídeo VHS con los métodos \" Pan and scan \" y Laserdisc .', 'El 9 de noviembre de 2015 , la serie se renovó para una quinta temporada , en mayo de 2017 es renovada para su sexta temporada , el 10 de mayo de 2018 NBC la renueva para una séptima temporada .', 'El 27 de febrero la NBC anunció la renovación de la serie por 3 temporadas más .', 'El episodio piloto se estrenó en NBC .', 'NBC dio luz verde a una serie policial con el título Chicago P.D. , que se estrenó el 8 de enero de 2014 .', 'Tiempo después , Scott Rudin y Paramount Pictures adquirieron los derechos sobre la vida del trío de chicos , con el objetivo de producir una cinta basada en sus aventuras durante la realización de su adaptación .', 'El 5 de febrero de 2015 , la NBC renovó la serie para una cuarta temporada que se estrenó el 13 de octubre del mismo año .', 'El 10 de noviembre de 2015 , la NBC renovó la serie para una quinta temporada .', 'Fue publicada como historia serial a dos partes por la revista literaria The Cornhill Magazine .', 'La historia narrada en \" las cuatro plumas \" ha sido una fuente de inspiración para Hollywood , en donde la han adaptado por lo menos a siete películas .', 'En Estados Unidos , las canciones fueron estrenándose aleatoriamente semanas antes del estreno de la película .', 'En 2015 es seleccionado para formar parte de la selección neozelandesa que participa en la Copa Mundial de Rugby de 2015 .', 'Su hermano mayor , Ben Franks es también un pilar y juega con su hermano .', 'Es el hermano menor de Michy Batshuayi .', 'Allí jugó una temporada , en la que promedió 11,4 puntos y 7,1 rebotes por partido , el segundo mejor en este aspecto del equipo tras Elvin Hayes .', 'El álbum debutó en el número 2 en la tienda iTunes a los dos días de salir a la venta y en Canadá en el número 4 , también en iTunes .', 'Es protagonizada por Dominic Cooper y fue estrenada el 22 de mayo de 2016 .']\n",
      "DataFrame salvato in formato CoNLL-U: ../data/es/tagging/golden_tag.conllu\n",
      "DataFrame salvato in formato CoNLL-U: ../data/es/tagging/viterbi_tag.conllu\n",
      "DataFrame salvato in formato CoNLL-U: ../data/es/tagging/naive_tag.conllu\n",
      "fine lingua: es\n"
     ]
    }
   ],
   "source": [
    "smoothing_type=1\n",
    "num_sentences=100\n",
    "for language in [\"en\",\"it\",\"es\"]:\n",
    " print( \"inizio lingua: \"+language) \n",
    " emission_prob=load_data(\"emission_prob\",language)\n",
    " transition_prob=load_data(\"transition_prob\",language)\n",
    " unkown_prob=load_data(\"unknown_prob\",language)\n",
    "\n",
    " #carico il file di test, estraggo la sentence e pongo il test set df come golden_df\n",
    " golden_tot = read_dataset(\"test\",language)\n",
    " all_sentence = extract_sentences_from_dataframe(golden_tot)\n",
    " sentences=all_sentence[:num_sentences]\n",
    " vit_df=viterbi_tagger(sentences,emission_prob,transition_prob,unkown_prob,smoothing_type=smoothing_type)\n",
    " naive_df=naive_tagger(sentences, emission_prob)\n",
    "\n",
    " save_to_conllu(golden_tot, \"golden_tag.conllu\", language)\n",
    " save_to_conllu(vit_df, \"viterbi_tag.conllu\", language)\n",
    " save_to_conllu(naive_df, \"naive_tag.conllu\", language)\n",
    " open('../data/'+language+'/tagging/smoothing_type', 'w').write(str(smoothing_type))\n",
    " print( \"fine lingua: \"+language)"
   ]
  }
 ],
 "metadata": {
  "kernelspec": {
   "display_name": "TLNenv",
   "language": "python",
   "name": "python3"
  },
  "language_info": {
   "codemirror_mode": {
    "name": "ipython",
    "version": 3
   },
   "file_extension": ".py",
   "mimetype": "text/x-python",
   "name": "python",
   "nbconvert_exporter": "python",
   "pygments_lexer": "ipython3",
   "version": "3.12.2"
  }
 },
 "nbformat": 4,
 "nbformat_minor": 2
}
