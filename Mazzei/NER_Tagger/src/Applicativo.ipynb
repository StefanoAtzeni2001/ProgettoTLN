{
 "cells": [
  {
   "cell_type": "code",
   "execution_count": null,
   "metadata": {},
   "outputs": [],
   "source": [
    "emission_prob=load_data(\"emission_prob\",\"en\")\n",
    "transition_prob=load_data(\"transition_prob\",\"en\")\n",
    "unkown_prob=load_data(\"unknown_prob\",\"en\")\n",
    "\n",
    "\n",
    "sentence = \"The PAROLASCONOSCIUTA tour would cover the United States and the UK and Ireland throughout 2019 .\"\n",
    "\n",
    "viterbi_tagger(sentence,emission_prob,transition_prob,4)\n",
    "naive_tagger(sentence,emission_prob)"
   ]
  }
 ],
 "metadata": {
  "language_info": {
   "name": "python"
  }
 },
 "nbformat": 4,
 "nbformat_minor": 2
}
