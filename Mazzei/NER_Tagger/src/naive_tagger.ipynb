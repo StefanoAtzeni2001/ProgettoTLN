{
 "cells": [
  {
   "cell_type": "code",
   "execution_count": 2,
   "metadata": {},
   "outputs": [],
   "source": [
    "import pickle\n",
    "import pandas as pd\n",
    "#deserialize data from a file\n",
    "def load_data(file_name,language):\n",
    "    path=\"../data/\"+language+\"/\"+file_name\n",
    "    try: \n",
    "        file = open(path, 'rb') \n",
    "        data = pickle.load(file) \n",
    "        return data\n",
    "    except: \n",
    "        print(\"Error in reading data\")"
   ]
  },
  {
   "cell_type": "code",
   "execution_count": 8,
   "metadata": {},
   "outputs": [
    {
     "data": {
      "text/plain": [
       "[('The', 'O'),\n",
       " ('PAROLASCONOSCIUTA', 'B-MISC'),\n",
       " ('tour', 'O'),\n",
       " ('would', 'O'),\n",
       " ('cover', 'O'),\n",
       " ('the', 'O'),\n",
       " ('United', 'B-LOC'),\n",
       " ('States', 'I-LOC'),\n",
       " ('and', 'O'),\n",
       " ('the', 'O'),\n",
       " ('UK', 'B-LOC'),\n",
       " ('and', 'O'),\n",
       " ('Ireland', 'B-LOC'),\n",
       " ('throughout', 'O'),\n",
       " ('2019', 'O'),\n",
       " ('.', 'O')]"
      ]
     },
     "execution_count": 8,
     "metadata": {},
     "output_type": "execute_result"
    }
   ],
   "source": [
    "#prende in input una frase, le probabilità di emisione \n",
    "#restituisce le coppie parola-NER_TAG selezionando banalmente il tag con probabilità di emisione maggiore oppure B-MISC se la parola è sconosciuta\n",
    "def naive_tagger(sentence,emission_prob):\n",
    "    tags=[]\n",
    "    words=sentence.split()\n",
    "\n",
    "    for word in words:\n",
    "        if word in emission_prob: #seleiono il tag con probabilità di emisione maggiore\n",
    "             tags.append(max(emission_prob[word], key=emission_prob[word].get))\n",
    "        else: #sconosciuta\n",
    "            tags.append(\"B-MISC\")\n",
    "    return [(word,tag) for word,tag in zip(words,tags)]\n",
    "\n",
    "#esempio di utilizzo\n",
    "emission_prob=load_data(\"emission_prob\",\"en\")\n",
    "sentence = \"The PAROLASCONOSCIUTA tour would cover the United States and the UK and Ireland throughout 2019 .\"\n",
    "naive_tagger(sentence,emission_prob)"
   ]
  }
 ],
 "metadata": {
  "kernelspec": {
   "display_name": "TLNenv",
   "language": "python",
   "name": "python3"
  },
  "language_info": {
   "codemirror_mode": {
    "name": "ipython",
    "version": 3
   },
   "file_extension": ".py",
   "mimetype": "text/x-python",
   "name": "python",
   "nbconvert_exporter": "python",
   "pygments_lexer": "ipython3",
   "version": "3.12.2"
  }
 },
 "nbformat": 4,
 "nbformat_minor": 2
}
