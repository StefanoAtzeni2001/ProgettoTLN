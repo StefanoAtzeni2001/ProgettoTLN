{
 "cells": [
  {
   "cell_type": "code",
   "execution_count": 11,
   "metadata": {},
   "outputs": [],
   "source": [
    "import pickle\n",
    "import pandas as pd\n",
    "import re\n",
    "\n",
    "# function to read data from file\n",
    "def read_dataset(file_name,language):\n",
    "    path=\"../data/\"+language+\"/\"+file_name+\".conllu\"\n",
    "    data = pd.read_csv (path, sep = '\\t',quoting=3, names=[\"POSITION\",\"WORD\",\"TAG\"])\n",
    "    return data\n",
    "\n"
   ]
  },
  {
   "cell_type": "code",
   "execution_count": 4,
   "metadata": {},
   "outputs": [],
   "source": [
    "# Definiamo una funzione per estrarre le entità nominate da una frase\n",
    "def extract_entities(sentence):\n",
    "    entities = []\n",
    "    current_entity = None\n",
    "    for idx, (word, tag) in enumerate(sentence):\n",
    "        if tag.startswith('B-'):\n",
    "            if current_entity is not None:\n",
    "                entities.append(current_entity)\n",
    "            current_entity = {'type': tag[2:], 'start': idx, 'end': idx, 'words': [word]}\n",
    "        elif tag.startswith('I-'):\n",
    "            if current_entity is not None:\n",
    "                current_entity['end'] = idx\n",
    "                current_entity['words'].append(word)\n",
    "        else:\n",
    "            if current_entity is not None:\n",
    "                entities.append(current_entity)\n",
    "                current_entity = None\n",
    "    if current_entity is not None:\n",
    "        entities.append(current_entity)\n",
    "    return entities\n",
    "\n",
    "# Definiamo una funzione per dividere il testo in frasi\n",
    "def split_into_sentences(text):\n",
    "    return re.split(r'(?<=[.!?]) +', text)\n",
    "\n",
    "# Definiamo una funzione per creare le quadruple\n",
    "def create_quadruples(sentence, entities, sentence_idx):\n",
    "    quadruples = []\n",
    "    for entity in entities:\n",
    "        quadruples.append((entity['type'], f\"sent-{sentence_idx}\", entity['start'], entity['end'], ' '.join(entity['words'])))\n",
    "    return quadruples\n",
    "\n",
    "# Funzione che dato in ingresso un dataframe di tipo (POSITION - WORD - TAG) \n",
    "#mi restituisce un DataFrame delle Entità espresse in quadruple\n",
    "def process_dataframe(df):\n",
    "    quadruples = []\n",
    "    current_sentence = []\n",
    "    for idx, row in df.iterrows():\n",
    "        if isinstance(row['WORD'], float):\n",
    "            # Convertiamo il float in una stringa\n",
    "            word = str(row['WORD'])\n",
    "        else:\n",
    "            word = row['WORD']\n",
    "            \n",
    "        if word in ('.', '!', '?'):\n",
    "            current_sentence.append((word, row['TAG']))\n",
    "            entities = extract_entities(current_sentence)\n",
    "            quadruples.extend(create_quadruples(current_sentence, entities, len(quadruples) + 1))\n",
    "            current_sentence = []\n",
    "        else:\n",
    "            current_sentence.append((word, row['TAG']))\n",
    "    quadruples_df = pd.DataFrame(quadruples, columns=['TAG', 'Contesto', 'Indice_inizio', 'Indice_fine', 'Entità'])\n",
    "    return quadruples_df\n",
    "\n",
    "\n"
   ]
  },
  {
   "cell_type": "code",
   "execution_count": 5,
   "metadata": {},
   "outputs": [],
   "source": [
    "# Definiamo una funzione per calcolare l'accuratezza dei singoli tag, vuole in ingresso i dataframe \"classici\" (POSITION -WORD -TAG)\n",
    "\n",
    "def calculate_accuracy(system_df, golden_df):\n",
    "    # Uniamo i due dataframe per confrontare i tag\n",
    "    merged_df = pd.merge(system_df, golden_df, left_index=True, right_index=True, suffixes=('_system', '_golden'))\n",
    "    \n",
    "    # Contiamo quante volte i tag corrispondenti sono uguali\n",
    "    correct_tags = (merged_df['TAG_system'] == merged_df['TAG_golden']).sum()\n",
    "    \n",
    "    # Calcoliamo l'accuratezza\n",
    "    accuracy = correct_tags / len(system_df)\n",
    "    \n",
    "    return accuracy\n"
   ]
  },
  {
   "cell_type": "code",
   "execution_count": 6,
   "metadata": {},
   "outputs": [],
   "source": [
    "# Funzione per il calcolo di precisione e recall delle entità, come valori di ingresso vuole i dataframe delle entità (Quadruple)\n",
    "\n",
    "def calculate_precision_recall(system_df, golden_df):\n",
    "    # Convertiamo i dataframe in insiemi di tuple per facilitare il confronto\n",
    "    system_entities = set(map(tuple, system_df.values))\n",
    "    golden_entities = set(map(tuple, golden_df.values))\n",
    "    \n",
    "    # Contiamo le entità estratte correttamente\n",
    "    true_positives = len(system_entities & golden_entities)\n",
    "    \n",
    "    # Calcoliamo la precisione e il recall\n",
    "    precision = true_positives / len(system_entities) if len(system_entities) > 0 else 0\n",
    "    recall = true_positives / len(golden_entities) if len(golden_entities) > 0 else 0\n",
    "    \n",
    "    return precision, recall\n",
    "\n",
    "\n",
    "\n"
   ]
  },
  {
   "cell_type": "code",
   "execution_count": 17,
   "metadata": {},
   "outputs": [
    {
     "name": "stdout",
     "output_type": "stream",
     "text": [
      "Accuracy:1.0\n",
      "precision:1.0\n",
      "recall:1.0\n"
     ]
    }
   ],
   "source": [
    "Vit_df=read_dataset(\"viterbi_tag\",\"it\")\n",
    "golden_df=Vit_df\n",
    "acc=calculate_accuracy(Vit_df,golden_df)\n",
    "vit_quadruples_df = process_dataframe(Vit_df)\n",
    "gol_quadruples_df = process_dataframe(golden_df)\n",
    "precision, recall =calculate_precision_recall(Vit_df,golden_df)\n",
    "\n",
    "print(\"Accuracy:\"+ format(acc))\n",
    "print(\"precision:\"+ format(precision))\n",
    "print(\"recall:\"+ format(recall))"
   ]
  }
 ],
 "metadata": {
  "kernelspec": {
   "display_name": "Python 3",
   "language": "python",
   "name": "python3"
  },
  "language_info": {
   "codemirror_mode": {
    "name": "ipython",
    "version": 3
   },
   "file_extension": ".py",
   "mimetype": "text/x-python",
   "name": "python",
   "nbconvert_exporter": "python",
   "pygments_lexer": "ipython3",
   "version": "3.11.9"
  }
 },
 "nbformat": 4,
 "nbformat_minor": 2
}
