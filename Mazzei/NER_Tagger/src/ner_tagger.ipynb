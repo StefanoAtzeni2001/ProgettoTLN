{
 "cells": [
  {
   "cell_type": "code",
   "execution_count": 9,
   "metadata": {},
   "outputs": [
    {
     "name": "stdout",
     "output_type": "stream",
     "text": [
      "                WORD TAG\n",
      "0              Nella   O\n",
      "1           stagione   O\n",
      "2               2003   O\n",
      "3                  -   O\n",
      "4               2004   O\n",
      "...              ...  ..\n",
      "1227698        quale   O\n",
      "1227699  costituisce   O\n",
      "1227700           il   O\n",
      "1227701    capoluogo   O\n",
      "1227702            .   O\n",
      "\n",
      "[1227703 rows x 2 columns]\n"
     ]
    }
   ],
   "source": [
    "import pandas as pd\n",
    "\n",
    "# function to read data from file\n",
    "def read_data(file_name,language):\n",
    "    path=\"../data/\"+language+\"/\"+file_name+\".conllu\"\n",
    "    data = pd.read_csv (path, sep = '\\t',names=[\"POSITION\",\"WORD\",\"TAG\"])\n",
    "    data.drop(\"POSITION\",axis=1,inplace=True)\n",
    "\n",
    "    return data\n",
    "\n",
    "\n",
    "train_data=read_data(\"train\",\"it\")\n",
    "print(train_data)"
   ]
  },
  {
   "cell_type": "markdown",
   "metadata": {},
   "source": [
    "## LEARNING"
   ]
  },
  {
   "cell_type": "code",
   "execution_count": 10,
   "metadata": {},
   "outputs": [
    {
     "name": "stdout",
     "output_type": "stream",
     "text": [
      "TAG\n",
      "O         1077411\n",
      "B-LOC       39475\n",
      "B-PER       27132\n",
      "I-PER       25701\n",
      "I-MISC      17449\n",
      "I-LOC       13888\n",
      "B-MISC      10888\n",
      "B-ORG        9196\n",
      "I-ORG        6563\n",
      "Name: count, dtype: int64\n"
     ]
    }
   ],
   "source": [
    "tag_counts = train_data['TAG'].value_counts()\n",
    "print(tag_counts)"
   ]
  }
 ],
 "metadata": {
  "kernelspec": {
   "display_name": "AAUTenv",
   "language": "python",
   "name": "python3"
  },
  "language_info": {
   "codemirror_mode": {
    "name": "ipython",
    "version": 3
   },
   "file_extension": ".py",
   "mimetype": "text/x-python",
   "name": "python",
   "nbconvert_exporter": "python",
   "pygments_lexer": "ipython3",
   "version": "3.12.2"
  }
 },
 "nbformat": 4,
 "nbformat_minor": 2
}
