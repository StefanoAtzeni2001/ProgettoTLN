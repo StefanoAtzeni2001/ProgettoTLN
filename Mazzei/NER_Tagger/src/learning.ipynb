{
 "cells": [
  {
   "cell_type": "code",
   "execution_count": 3,
   "metadata": {},
   "outputs": [
    {
     "name": "stdout",
     "output_type": "stream",
     "text": [
      "         POSITION      WORD TAG\n",
      "0               0      This   O\n",
      "1               1  division   O\n",
      "2               2      also   O\n",
      "3               3  contains   O\n",
      "4               4       the   O\n",
      "...           ...       ...  ..\n",
      "2193674        27      born   O\n",
      "2193675        28         1   O\n",
      "2193676        29       May   O\n",
      "2193677        30      1964   O\n",
      "2193678        31         .   O\n",
      "\n",
      "[2193679 rows x 3 columns]\n"
     ]
    }
   ],
   "source": [
    "import pandas as pd\n",
    "import numpy as np\n",
    "import pickle \n",
    "\n",
    "# function to read data from file\n",
    "def read_dataset(file_name,language):\n",
    "    path=\"../data/\"+language+\"/\"+file_name+\".conllu\"\n",
    "    data = pd.read_csv (path, sep = '\\t',quoting=3, names=[\"POSITION\",\"WORD\",\"TAG\"])\n",
    "    return data\n",
    "\n",
    "train_data=read_dataset(\"train\",\"en\")\n",
    "print(train_data)"
   ]
  },
  {
   "cell_type": "code",
   "execution_count": 6,
   "metadata": {},
   "outputs": [],
   "source": [
    "#serialize data into a file \n",
    "def save_data(data,file_name,language):\n",
    "    path=\"../data/\"+language+\"/\"+file_name\n",
    "    try: \n",
    "        file= open(path, 'wb') \n",
    "        pickle.dump(data, file) \n",
    "        file.close() \n",
    "    except: \n",
    "        print(\"Error in writing data\")\n",
    "\n",
    "#esempio di utilizzo\n",
    "# save_data(transition_prob,\"transition_prob\",\"it\")"
   ]
  },
  {
   "cell_type": "markdown",
   "metadata": {},
   "source": [
    "\n",
    "### Counteggio\n",
    "- word_tag_counts = numero di occorenze in cui una parola è associata ad un certo tag\n",
    "- tag_tag_counts =  numero di occroenze in cui un tag è seguito da un certo tag   "
   ]
  },
  {
   "cell_type": "code",
   "execution_count": null,
   "metadata": {},
   "outputs": [],
   "source": [
    "def counts_occurence(train_data):\n",
    "  tag_list=train_data['TAG'].unique()\n",
    "  word_list=train_data['WORD'].unique()\n",
    "  empty_tag_count_dict= {tag:0 for tag in tag_list}\n",
    "\n",
    "  tag_counts = empty_tag_count_dict.copy()  # {tag1:0, tag2:0, ...}\n",
    "  word_tag_counts = {word:empty_tag_count_dict.copy() for word in word_list} # {word1:{tag1:0, tag2:0, ...}, word2:{tag1:0, tag2:0, ...}, ...}\n",
    "  tag_tag_counts = {tag:empty_tag_count_dict.copy() for tag in tag_list} # {tag1:{tag1:0, tag2:0, ...}, tag2:{tag1:0, tag2:0, ...}, ...}\n",
    "  #tag_tag_counts['START'] = empty_tag_count_dict.copy()\n",
    "  #tag_counts['START'] = 0\n",
    "  \n",
    "  for index, row in train_data.iterrows():\n",
    "      word = row['WORD']\n",
    "      tag = row['TAG']\n",
    "      pos= row['POSITION']\n",
    "      \n",
    "      if pos!=0:\n",
    "        tag_tag_counts[prev_tag][tag] +=1\n",
    "\n",
    "      tag_counts[tag] += 1\n",
    "      word_tag_counts[word][tag] +=1\n",
    "      prev_tag = tag\n",
    "\n",
    "  return tag_counts, word_tag_counts, tag_tag_counts\n",
    "\n",
    "tag_counts, word_tag_counts, tag_tag_counts= counts_occurence(train_data)\n",
    "\n",
    "print(tag_counts,word_tag_counts,tag_tag_counts)"
   ]
  },
  {
   "cell_type": "markdown",
   "metadata": {},
   "source": [
    "### Probabilità\n",
    "- emission_prob = $p(w_i|t_i)$: probabilità, dato un tag, che venga associato ad una certa parola  \n",
    "- transition_prob = $p(t_i|t_{i-1})$: probabilità di occorenza di un tag dato il tag precedente "
   ]
  },
  {
   "cell_type": "code",
   "execution_count": 25,
   "metadata": {},
   "outputs": [],
   "source": [
    "def calculate_probs(tag_counts, word_tag_counts, tag_tag_counts):\n",
    "    tag_list = list(tag_counts.keys())\n",
    "    word_list = list(word_tag_counts.keys())\n",
    "\n",
    "    emission_prob = {word: {} for word in word_list} \n",
    "    transition_prob = {tag: {} for tag in tag_list} \n",
    "\n",
    "    # Calcolo delle probabilità di emissione\n",
    "    for word, tag_dict in word_tag_counts.items():\n",
    "        total_tag_count = sum(tag_dict.values())\n",
    "        for tag, count in tag_dict.items():\n",
    "            emission_prob[word][tag] = count / total_tag_count if total_tag_count > 0 else 0\n",
    "\n",
    "    # Calcolo delle probabilità di transizione\n",
    "    for prev, tag_dict in tag_tag_counts.items():\n",
    "        total_tag_count = tag_counts[prev]\n",
    "        for next_tag, count in tag_dict.items():\n",
    "            transition_prob[prev][next_tag] = count / total_tag_count if total_tag_count > 0 else 0\n",
    "\n",
    "    return emission_prob, transition_prob\n",
    "\n",
    "emission_prob, transition_prob= calculate_probs(tag_counts, word_tag_counts, tag_tag_counts)\n",
    "\n",
    "\n"
   ]
  },
  {
   "cell_type": "code",
   "execution_count": 1,
   "metadata": {},
   "outputs": [],
   "source": [
    "#calcola la probabilità di emissione di un tag per le parole  \"sconosciute\"\n",
    "#usando il dataset di validazione e considerando le parole che appaiono una sola volta\n",
    "def calculate_unknown_probs(val_data):\n",
    "\n",
    "    word_counts = val_data['WORD'].value_counts()\n",
    "    unique_rows = val_data[val_data['WORD'].map(word_counts) == 1]\n",
    "    tag_counts= unique_rows['TAG'].value_counts()\n",
    "    tag_list=val_data['TAG'].unique()\n",
    "    unknown_prob= {tag:0 for tag in tag_list}\n",
    "\n",
    "    for tag in tag_list:\n",
    "        if tag not in unknown_prob:\n",
    "            unknown_prob[tag] = 0\n",
    "        else:\n",
    "            unknown_prob[tag] = tag_counts[tag]/sum(tag_counts)\n",
    "    return unknown_prob\n",
    "    \n",
    "#esempio di utilizzo\n",
    "# val_data=read_dataset(\"val\",\"en\")\n",
    "# calculate_unknown_probs(val_data)\n"
   ]
  },
  {
   "cell_type": "code",
   "execution_count": 8,
   "metadata": {},
   "outputs": [],
   "source": [
    "#Impara le probabilità di transizione, di emissione per le lingue en, it, es\n",
    "for language in [\"en\",\"it\",\"es\"]:\n",
    "    train_data=read_dataset(\"train\",language)\n",
    "    tag_counts, word_tag_counts, tag_tag_counts= counts_occurence(train_data)\n",
    "    emission_prob, transition_prob= calculate_probs(tag_counts, word_tag_counts, tag_tag_counts)\n",
    "    save_data(transition_prob,\"transition_prob\",language)\n",
    "    save_data(emission_prob,\"emission_prob\",language)\n",
    "    val_data=read_dataset(\"val\",language)\n",
    "    unknown_prob=calculate_unknown_probs(val_data)\n",
    "    save_data(unknown_prob,\"unknown_prob\",language)"
   ]
  }
 ],
 "metadata": {
  "kernelspec": {
   "display_name": "AAUTenv",
   "language": "python",
   "name": "python3"
  },
  "language_info": {
   "codemirror_mode": {
    "name": "ipython",
    "version": 3
   },
   "file_extension": ".py",
   "mimetype": "text/x-python",
   "name": "python",
   "nbconvert_exporter": "python",
   "pygments_lexer": "ipython3",
   "version": "3.12.2"
  }
 },
 "nbformat": 4,
 "nbformat_minor": 2
}
