{
 "cells": [
  {
   "cell_type": "markdown",
   "metadata": {},
   "source": [
    "\n",
    "**Esercizio Lab 1**: Calcolo similarità tra le definizioni create usando cardinalità intersezione\n"
   ]
  },
  {
   "cell_type": "code",
   "execution_count": 2,
   "metadata": {},
   "outputs": [],
   "source": [
    "import pandas as pd\n",
    "definitions_df=pd.read_csv(\"../data/TLN-definitions-24.csv\")"
   ]
  },
  {
   "cell_type": "code",
   "execution_count": 3,
   "metadata": {},
   "outputs": [
    {
     "data": {
      "text/plain": [
       "['pen', 'tool', 'use', 'write', 'paper', 'use', 'ink']"
      ]
     },
     "execution_count": 3,
     "metadata": {},
     "output_type": "execute_result"
    }
   ],
   "source": [
    "import nltk\n",
    "from nltk.stem import PorterStemmer\n",
    "from nltk.tokenize import word_tokenize\n",
    "from nltk.corpus import stopwords\n",
    "#preprocessa una frase tokenizzandola,stemmizando i termini e rimuovendo le stopwords e la punteggiatura,\n",
    "def preprocess(sentence,stemming=True):\n",
    "    snow_stm = nltk.stem.SnowballStemmer('english')\n",
    "    stopword = stopwords.words('english')\n",
    "    word_tokens = word_tokenize(sentence.lower())\n",
    "    preporcessed_tokens = [w for w in word_tokens if w.casefold() not in stopword+list(\".,;:?!()\") ]\n",
    "    if stemming: preporcessed_tokens = [snow_stm.stem(word) for word in preporcessed_tokens]\n",
    "    return preporcessed_tokens\n",
    "\n",
    "#esempio di utilizzo\n",
    "example_string = \"A pen is a tool that is used to write into a paper using ink.\"\n",
    "preprocess(example_string)"
   ]
  },
  {
   "cell_type": "code",
   "execution_count": 4,
   "metadata": {},
   "outputs": [
    {
     "name": "stdout",
     "output_type": "stream",
     "text": [
      "[['object', 'use', 'write', 'paper', 'fill', 'ink'], ['object', 'use', 'write', 'peper'], ['pen', 'tool', 'use', 'write', 'paper', 'use', 'ink'], ['pen', 'object', 'use', 'write', 'ink'], ['object', 'use', 'write', 'paper', 'usual', 'tool', 'permit', 'spread', 'ink', 'paper', 'follow', 'direct', 'hand', 'util', 'stylograph', 'case', 'requir', 'manual', 'ink', 'ball', 'pen', 'case', 'ink', 'flow', 'bodi', 'pen', 'ball', 'roll', 'paper'], ['stick', 'write', 'ink', 'someword', 'sketch', 'draw'], ['pen', 'object', 'use', 'write', 'paper', 'ink'], ['pen', 'tool', 'use', 'write', 'text'], ['pen', 'write', 'tool', 'use', 'ink'], ['pen', 'tool', 'write', 'paper', 'usual', 'black', 'blue', 'red'], ['object', 'use', 'write', 'sheet', 'paper'], ['object', 'use', 'write', 'could', 'differ', 'colour', 'shape'], ['pen', 'tool', 'use', 'write', 'text'], ['pen', 'cylindr', 'object', 'use', 'repres', 'generic', 'concept', 'piec', 'paper'], ['pen', 'object', 'tool', 'use', 'peopl', 'primarili', 'write', 'text', 'surfac', 'materi', 'shape', 'differ']]\n",
      "[['object', 'used', 'write', 'paper', 'filled', 'ink'], ['object', 'used', 'write', 'peper'], ['pen', 'tool', 'used', 'write', 'paper', 'using', 'ink'], ['pen', 'object', 'used', 'write', 'ink'], ['object', 'used', 'write', 'papers', 'usually', 'tool', 'permit', 'spread', 'ink', 'paper', 'following', 'direction', 'hand', 'utilizer', 'stylographic', 'case', 'required', 'manually', 'inked', 'ball', 'pen', 'case', 'ink', 'flowing', 'body', 'pen', 'ball', 'rolls', 'paper'], ['stick', 'write', 'ink', 'someword', 'sketches', 'drawings'], ['pen', 'object', 'used', 'write', 'paper', 'ink'], ['pen', 'tool', 'used', 'write', 'text'], ['pen', 'writing', 'tool', 'using', 'ink'], ['pen', 'tool', 'writing', 'paper', 'usually', 'black', 'blue', 'red'], ['object', 'used', 'writing', 'sheet', 'paper'], ['object', 'used', 'writing', 'could', 'different', 'colour', 'shape'], ['pen', 'tool', 'used', 'write', 'text'], ['pen', 'cylindrical', 'object', 'used', 'represent', 'generic', 'concept', 'piece', 'paper'], ['pen', 'object', 'tool', 'used', 'people', 'primarily', 'write', 'text', 'surface', 'material', 'shape', 'different']]\n"
     ]
    }
   ],
   "source": [
    "#dato il dataframe di definizioni, e un termine specifico\n",
    "#ritorrna una lista di liste, contenente tutte le parole prepocessate per ogni definizione\n",
    "def get_definitions(df,word,stemming=True):\n",
    "    definitions=[]\n",
    "    for index, row in df.iterrows():\n",
    "        if not pd.isna(row[word]):\n",
    "            definitions.append(preprocess(row[word],stemming))\n",
    "       \n",
    "    return definitions\n",
    "\n",
    "print(get_definitions(definitions_df,\"pen\"))#stemming\n",
    "print(get_definitions(definitions_df,\"pen\",stemming=False))#no stemming"
   ]
  },
  {
   "cell_type": "code",
   "execution_count": 5,
   "metadata": {},
   "outputs": [],
   "source": [
    "#date due liste di token stemmizzati di una definizione\n",
    "#calcola la similarità come intersezione di parole in comune normalizzato sulla lunghezza della lista più corta\n",
    "def similarity(def1,def2):\n",
    "    common_word=set()\n",
    "    for word in def1:\n",
    "        if word in def2:\n",
    "            common_word.add(word)\n",
    "    if len(common_word)>0:\n",
    "        return len(common_word)/min(len(def1),len(def2))\n",
    "    else:\n",
    "        return 0"
   ]
  },
  {
   "cell_type": "code",
   "execution_count": 6,
   "metadata": {},
   "outputs": [],
   "source": [
    "from collections import Counter\n",
    "#calcola la similarità tra ogni coppia di definizione e ne ritorna la media\n",
    "def pairwise_similarity(def_list):\n",
    "    similarities=[]\n",
    "    for i in range(0,len(def_list)):\n",
    "        for j in range(i,len(def_list)):\n",
    "            similarities.append(similarity(def_list[i],def_list[j]))\n",
    "    return sum(similarities)/len(similarities)\n",
    "\n",
    "#ottiene la lista delle k-parole più frequenti da una lisa di definizioni\n",
    "def top_k_words(def_list, k):\n",
    "    counts = Counter([w for d in def_list for w in d])\n",
    "    return  [el[0] for el in counts.most_common(k)]\n",
    "\n",
    "#calcola la media delle similirità tra le singole definizioni e le top-k parole più frequenti\n",
    "def k_similarity(def_list,k):\n",
    "    similarities=[]\n",
    "    #rappresentazione del \"concetto\"\n",
    "    def_set=top_k_words(def_list,k)\n",
    "    for d in def_list:\n",
    "        similarities.append(similarity(def_set,d))\n",
    "    return sum(similarities)/len(similarities)"
   ]
  },
  {
   "cell_type": "code",
   "execution_count": 7,
   "metadata": {},
   "outputs": [],
   "source": [
    "#realizza una visualizzazione grafica delle similarità per i 4 termini in esame\n",
    "import matplotlib.pyplot as plt\n",
    "def create_table(data):\n",
    "    fig, axs = plt.subplots(2, 2)\n",
    "    plt.subplots_adjust(left=0.1, right=0.9, top=0.9, bottom=0.1, wspace=0.4, hspace=0.4)\n",
    "    for (word, val), ax in zip(data.items(), axs.flatten()):\n",
    "        ax.text(0.5, 0.5, f\"{word}\\nSimilarity: {val}\", fontsize=18, ha='center', va='center')\n",
    "        ax.axis('off')\n",
    "\n",
    "    for i, row_label in enumerate([\"Generic\", \"Specific\"]):\n",
    "        axs[i, 0].text(-0.2, 0.5, row_label, fontsize=14, ha='center', va='center', rotation=90)\n",
    "\n",
    "    for j, col_label in enumerate([\"Abstract\", \"Concrete\"]):\n",
    "        axs[1, j].text(0.5, 2.5, col_label, fontsize=14, ha='center', va='center')\n",
    "    plt.show()"
   ]
  },
  {
   "cell_type": "code",
   "execution_count": 8,
   "metadata": {},
   "outputs": [
    {
     "data": {
      "image/png": "[encoded data removed]",
      "text/plain": [
       "<Figure size 640x480 with 4 Axes>"
      ]
     },
     "metadata": {},
     "output_type": "display_data"
    }
   ],
   "source": [
    "#Pairwise similarity \n",
    "def_pen=get_definitions(definitions_df,\"pen\")\n",
    "def_cigarette=get_definitions(definitions_df,\"cigarette\")\n",
    "def_cloud=get_definitions(definitions_df,\"cloud\")\n",
    "def_ontology=get_definitions(definitions_df,\"ontology\")\n",
    "\n",
    "data={\n",
    "    \"Ontology\": round(pairwise_similarity(def_ontology),4),\n",
    "    \"Cigarette\": round(pairwise_similarity(def_cigarette),4),\n",
    "    \"Cloud\": round(pairwise_similarity(def_cloud),4),\n",
    "    \"Pen\": round(pairwise_similarity(def_pen),4),\n",
    "}\n",
    "create_table(data)"
   ]
  },
  {
   "cell_type": "code",
   "execution_count": 2,
   "metadata": {},
   "outputs": [
    {
     "ename": "NameError",
     "evalue": "name 'k_similarity' is not defined",
     "output_type": "error",
     "traceback": [
      "\u001b[0;31m---------------------------------------------------------------------------\u001b[0m",
      "\u001b[0;31mNameError\u001b[0m                                 Traceback (most recent call last)",
      "Cell \u001b[0;32mIn[2], line 3\u001b[0m\n\u001b[1;32m      1\u001b[0m \u001b[38;5;66;03m#K similarity \u001b[39;00m\n\u001b[1;32m      2\u001b[0m data2\u001b[38;5;241m=\u001b[39m{\n\u001b[0;32m----> 3\u001b[0m     \u001b[38;5;124m\"\u001b[39m\u001b[38;5;124mOntology\u001b[39m\u001b[38;5;124m\"\u001b[39m: \u001b[38;5;28mround\u001b[39m(\u001b[43mk_similarity\u001b[49m(def_ontology,\u001b[38;5;241m3\u001b[39m),\u001b[38;5;241m4\u001b[39m),\n\u001b[1;32m      4\u001b[0m     \u001b[38;5;124m\"\u001b[39m\u001b[38;5;124mCigarette\u001b[39m\u001b[38;5;124m\"\u001b[39m: \u001b[38;5;28mround\u001b[39m(k_similarity(def_cigarette,\u001b[38;5;241m3\u001b[39m),\u001b[38;5;241m4\u001b[39m),\n\u001b[1;32m      5\u001b[0m     \u001b[38;5;124m\"\u001b[39m\u001b[38;5;124mCloud\u001b[39m\u001b[38;5;124m\"\u001b[39m: \u001b[38;5;28mround\u001b[39m(k_similarity(def_cloud,\u001b[38;5;241m3\u001b[39m),\u001b[38;5;241m4\u001b[39m),\n\u001b[1;32m      6\u001b[0m     \u001b[38;5;124m\"\u001b[39m\u001b[38;5;124mPen\u001b[39m\u001b[38;5;124m\"\u001b[39m: \u001b[38;5;28mround\u001b[39m(k_similarity(def_pen,\u001b[38;5;241m3\u001b[39m),\u001b[38;5;241m4\u001b[39m),\n\u001b[1;32m      7\u001b[0m }\n\u001b[1;32m      8\u001b[0m create_table(data2)\n",
      "\u001b[0;31mNameError\u001b[0m: name 'k_similarity' is not defined"
     ]
    }
   ],
   "source": [
    "#K similarity \n",
    "data2={\n",
    "    \"Ontology\": round(k_similarity(def_ontology,3),4),\n",
    "    \"Cigarette\": round(k_similarity(def_cigarette,3),4),\n",
    "    \"Cloud\": round(k_similarity(def_cloud,3),4),\n",
    "    \"Pen\": round(k_similarity(def_pen,3),4),\n",
    "}\n",
    "create_table(data2)"
   ]
  },
  {
   "cell_type": "markdown",
   "metadata": {},
   "source": [
    "----"
   ]
  },
  {
   "cell_type": "markdown",
   "metadata": {},
   "source": [
    "**Esercizio Lab 2** : Ricerca Onomasiologica usando WordNet"
   ]
  },
  {
   "cell_type": "code",
   "execution_count": 10,
   "metadata": {},
   "outputs": [],
   "source": [
    "from nltk.corpus import wordnet as wn"
   ]
  },
  {
   "cell_type": "code",
   "execution_count": 29,
   "metadata": {},
   "outputs": [
    {
     "name": "stdout",
     "output_type": "stream",
     "text": [
      "# pen ----- ['used', 'pen', 'write', 'object']\n",
      "0.5 - felt-tip_pen.n.01 :  ['pen', 'write', 'tip', 'made', 'felt', 'trade', 'name', 'magic', 'marker']\n",
      "0.5 - sharpie.n.03 :  ['pen', 'indel', 'ink', 'write', 'surfac']\n",
      "0.5 - cow_pen.n.01 :  ['pen', 'cattl']\n",
      "0.5 - fold.n.06 :  ['pen', 'sheep']\n",
      "0.5 - sty.n.02 :  ['pen', 'swine']\n",
      "# cigarette ----- ['tobacco', 'cigarette', 'paper', 'object']\n",
      "0.75 - cigarillo.n.01 :  ['small', 'cigar', 'cigarett', 'wrap', 'tobacco', 'instead', 'paper']\n",
      "0.75 - cigarette_paper.n.01 :  ['strong', 'tissu', 'paper', 'burn', 'even', 'suffici', 'porous', 'control', 'burn', 'tobacco', 'cigarett']\n",
      "0.5 - cigarette.n.01 :  ['fine', 'ground', 'tobacco', 'wrap', 'paper', 'smoke']\n",
      "0.5 - turkish_tobacco.n.01 :  ['dark', 'aromat', 'tobacco', 'eastern', 'europ', 'use', 'cigarett']\n",
      "0.5 - revenue_stamp.n.01 :  ['small', 'piec', 'adhes', 'paper', 'put', 'object', 'show', 'govern', 'tax', 'paid']\n",
      "# cloud ----- ['cloud', 'water', 'different', 'atmosphere']\n",
      "0.5 - contrail.n.01 :  ['artifici', 'cloud', 'creat', 'aircraft', 'caus', 'either', 'condens', 'due', 'reduct', 'air', 'pressur', 'wing', 'surfac', 'water', 'vapor', 'engin', 'exhaust']\n",
      "0.5 - cumulus.n.01 :  ['globular', 'cloud']\n",
      "0.5 - nebule.n.01 :  ['small', 'cloud']\n",
      "0.5 - fresh_water.n.01 :  ['water', 'salti']\n",
      "0.5 - rain.n.02 :  ['drop', 'fresh', 'water', 'fall', 'precipit', 'cloud']\n",
      "# ontology ----- ['ontology', 'used', 'philosophical', 'study']\n",
      "0.67 - etiology.n.02 :  ['philosoph', 'studi', 'causat']\n",
      "0.67 - metaphysics.n.01 :  ['philosoph', 'studi', 'know']\n",
      "0.67 - pragmatics.n.01 :  ['studi', 'languag', 'use']\n",
      "0.5 - study.n.05 :  ['room', 'use', 'read', 'write', 'studi']\n",
      "0.5 - biotechnology.n.02 :  ['branch', 'engin', 'scienc', 'biolog', 'scienc', 'use', 'studi', 'relat', 'worker', 'environ']\n"
     ]
    }
   ],
   "source": [
    "#aggiunge una definizione al dizionario, calcolando la similarità \n",
    "def  add_definitions_wn(synset,dict,topK):\n",
    "    snow_stm = nltk.stem.SnowballStemmer('english')\n",
    "    topK_stemmed = [snow_stm.stem(word) for word in topK]\n",
    "    definition = preprocess(synset.definition())\n",
    "    sim_val = similarity(topK_stemmed, definition)\n",
    "    dict[synset.name()] = (definition, sim_val)\n",
    "    return dict\n",
    "\n",
    "#funzione ricorsiva che aggiunge le definizioni di tutti gli iponimi di un synset fino ad un certo livello\n",
    "def explore_hyponyms(synset,dict,topK,max_lvl,lvl): \n",
    "    if lvl>max_lvl: \n",
    "        return\n",
    "    hyponyms = synset.hyponyms()\n",
    "    for hyponym in hyponyms:\n",
    "        dict=add_definitions_wn(hyponym,dict,topK)\n",
    "        explore_hyponyms(hyponym,dict,topK,max_lvl,lvl+1)\n",
    "\n",
    "#dato un insieme di parole, ne esplora gli iponimi e le loro definizioni calcolando la similarità\n",
    "#ritorna un dizionario word: (definition,similarity) \n",
    "def get_definitions_wn(topK,max_lvl):\n",
    "    dict={}\n",
    "    for word in topK:\n",
    "        synsets = wn.synsets(word,pos = wn.NOUN)#prendo solo i nomi per la ricerca (vengono comunque utilizzati per la similarità)\n",
    "        for synset in synsets:\n",
    "            dict=add_definitions_wn(synset,dict,topK)\n",
    "            explore_hyponyms(synset,dict,topK,max_lvl=max_lvl,lvl=0)\n",
    "    return dict\n",
    "\n",
    "def pretty_print(wn_definitions):\n",
    "    for key in sorted(wn_definitions,key=lambda x: wn_definitions[x][1],reverse=True)[:5]:\n",
    "        print(round(wn_definitions[key][1],2),\"-\",key,\": \",wn_definitions[key][0])\n",
    "    \n",
    "\n",
    "for word in [\"pen\",\"cigarette\",\"cloud\",\"ontology\"]:\n",
    "    def_list=get_definitions(definitions_df,word,stemming=False)\n",
    "    topK=top_k_words(def_list,4)\n",
    "    #topK.remove(word)\n",
    "    print(\"#\",word,\"-----\",topK)\n",
    "    wn_definitions=get_definitions_wn(topK,3)\n",
    "    pretty_print(wn_definitions)"
   ]
  }
 ],
 "metadata": {
  "kernelspec": {
   "display_name": "TLNenv",
   "language": "python",
   "name": "python3"
  },
  "language_info": {
   "codemirror_mode": {
    "name": "ipython",
    "version": 3
   },
   "file_extension": ".py",
   "mimetype": "text/x-python",
   "name": "python",
   "nbconvert_exporter": "python",
   "pygments_lexer": "ipython3",
   "version": "3.12.2"
  }
 },
 "nbformat": 4,
 "nbformat_minor": 2
}
